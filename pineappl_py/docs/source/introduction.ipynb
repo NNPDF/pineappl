{
 "cells": [
  {
   "cell_type": "markdown",
   "id": "1bc5cec5-dd52-4dbf-8e0d-86cb3996292c",
   "metadata": {},
   "source": [
    "# A Basic Introduction\n",
    "\n",
    "In the following introduction, we showcase some common use cases of `PineAPPL`\n",
    "that are available through the Python interface. For more details about all\n",
    "the available functionalities, refer to the [API documentation](https://pineappl.readthedocs.io/en/latest/modules/pineappl.html#)."
   ]
  },
  {
   "cell_type": "markdown",
   "id": "fb1fbb97-5222-40e5-b2e4-e737212f4c5b",
   "metadata": {},
   "source": [
    "## Setting up\n",
    "\n",
    "In order to start using `PineAPPL`, one first needs to install it. \n",
    "The easiest way to install the latest stable version is via `pip` \n",
    "using the following command:"
   ]
  },
  {
   "cell_type": "raw",
   "id": "e904212d-ee57-4664-8e78-fd0e8f2a665e",
   "metadata": {},
   "source": [
    "pip install pineappl"
   ]
  },
  {
   "cell_type": "markdown",
   "id": "318119e2-2be1-48c1-8448-8b4b12a08191",
   "metadata": {},
   "source": [
    "In order to check that `PineAPPL` was installed properly, one can try to import it:"
   ]
  },
  {
   "cell_type": "code",
   "execution_count": 1,
   "id": "5b870d1b-1325-4903-b885-c528a42c869c",
   "metadata": {},
   "outputs": [],
   "source": [
    "import pineappl"
   ]
  },
  {
   "cell_type": "markdown",
   "id": "5e3411d9-fcca-438f-8717-64c509461711",
   "metadata": {},
   "source": [
    "If the above command was successful (did not result in an error), we can\n",
    "download the `PineAPPL` grid that will be used throughout this tutorial."
   ]
  },
  {
   "cell_type": "code",
   "execution_count": 2,
   "id": "d67f35c1-2ad6-4a5a-a651-2f271258875d",
   "metadata": {},
   "outputs": [],
   "source": [
    "!wget --no-verbose --no-clobber 'https://data.nnpdf.science/pineappl/test-data/LHCB_DY_8TEV.pineappl.lz4'"
   ]
  },
  {
   "cell_type": "markdown",
   "id": "767c24c7-e1f6-4ec4-ac42-25badf7dc363",
   "metadata": {},
   "source": [
    "We can now load the downloaded grid by running the following:"
   ]
  },
  {
   "cell_type": "code",
   "execution_count": 3,
   "id": "7ed7bdf0-d28a-4830-ac56-1fa9c7f81d56",
   "metadata": {},
   "outputs": [],
   "source": [
    "# Load the PineAPPL grid\n",
    "grid = pineappl.grid.Grid.read(\"./LHCB_DY_8TEV.pineappl.lz4\")"
   ]
  },
  {
   "cell_type": "markdown",
   "id": "d0449d9b-26fc-4847-9689-5a4361cfef8b",
   "metadata": {},
   "source": [
    "**NOTE:** For the `pineappl.grid.Grid.read()` function, both `.pineappl` and `.pineappl.lz4` \n",
    "extensions are acceptable, as long as they are consistent. Without the `.lz4` extension, the\n",
    "grid is assumed to not be compressed."
   ]
  },
  {
   "cell_type": "markdown",
   "id": "097137f5-4f46-4d20-af7d-ff5ad3c31ced",
   "metadata": {},
   "source": [
    "## How can I convolve a given PineAPPL grid with a PDF?"
   ]
  },
  {
   "cell_type": "code",
   "execution_count": 4,
   "id": "fc2f1cd5-28d3-43db-8991-557287780281",
   "metadata": {},
   "outputs": [],
   "source": [
    "# We first need to load the PDF set with LHAPDF\n",
    "import lhapdf\n",
    "import numpy as np\n",
    "\n",
    "# `Polars` is a better alternative to Pandas (written in Rust!)\n",
    "# If you don't have it installed. Simply run `pip install polars`\n",
    "import polars as pl\n",
    "\n",
    "lhapdf.setVerbosity(0)\n",
    "# Choose the PDF set to be used\n",
    "pdfset = \"NNPDF40_nnlo_as_01180\"\n",
    "# Use the central PDF, ie. member ID=0\n",
    "pdf = lhapdf.mkPDF(pdfset, 0)"
   ]
  },
  {
   "cell_type": "markdown",
   "id": "640a1efd-94bb-4c22-a6d7-785e940a0013",
   "metadata": {},
   "source": [
    "In order to convolve a grid, we need to specify the types of convolutions that are required.\n",
    "This includes the polarization and the PDG IDs of the involved hadrons, as well as wether or\n",
    "not the hadron is in the initial- or final-state.\n",
    "\n",
    "In our example, the grid involves two initial-state unpolarized protons. We can therefore\n",
    "construct the convolution types as follows:"
   ]
  },
  {
   "cell_type": "code",
   "execution_count": 5,
   "id": "a10346c8-cda8-4d71-9b10-518cab0ec38b",
   "metadata": {},
   "outputs": [],
   "source": [
    "from pineappl.convolutions import Conv, ConvType\n",
    "\n",
    "conv_type = ConvType(polarized=False, time_like=False)\n",
    "conv_object = Conv(convolution_types=conv_type, pid=2212)"
   ]
  },
  {
   "cell_type": "markdown",
   "id": "813d3ba0-df32-4f2d-8364-73c625855bce",
   "metadata": {},
   "source": [
    "Our grid can now be convolved with our PDF set using the `convolve()` function."
   ]
  },
  {
   "cell_type": "code",
   "execution_count": 6,
   "id": "d41e391c-affd-49ad-8d70-483bf952d4f3",
   "metadata": {},
   "outputs": [
    {
     "data": {
      "text/html": [
       "<div><style>\n",
       ".dataframe > thead > tr,\n",
       ".dataframe > tbody > tr {\n",
       "  text-align: right;\n",
       "  white-space: pre-wrap;\n",
       "}\n",
       "</style>\n",
       "<small>shape: (18, 2)</small><table border=\"1\" class=\"dataframe\"><thead><tr><th>bins</th><th>predictions</th></tr><tr><td>i64</td><td>f64</td></tr></thead><tbody><tr><td>0</td><td>8.159231</td></tr><tr><td>1</td><td>23.890855</td></tr><tr><td>2</td><td>38.306994</td></tr><tr><td>3</td><td>51.278627</td></tr><tr><td>4</td><td>62.349204</td></tr><tr><td>&hellip;</td><td>&hellip;</td></tr><tr><td>13</td><td>22.640245</td></tr><tr><td>14</td><td>12.927123</td></tr><tr><td>15</td><td>6.138797</td></tr><tr><td>16</td><td>1.435175</td></tr><tr><td>17</td><td>0.052598</td></tr></tbody></table></div>"
      ],
      "text/plain": [
       "shape: (18, 2)\n",
       "┌──────┬─────────────┐\n",
       "│ bins ┆ predictions │\n",
       "│ ---  ┆ ---         │\n",
       "│ i64  ┆ f64         │\n",
       "╞══════╪═════════════╡\n",
       "│ 0    ┆ 8.159231    │\n",
       "│ 1    ┆ 23.890855   │\n",
       "│ 2    ┆ 38.306994   │\n",
       "│ 3    ┆ 51.278627   │\n",
       "│ 4    ┆ 62.349204   │\n",
       "│ …    ┆ …           │\n",
       "│ 13   ┆ 22.640245   │\n",
       "│ 14   ┆ 12.927123   │\n",
       "│ 15   ┆ 6.138797    │\n",
       "│ 16   ┆ 1.435175    │\n",
       "│ 17   ┆ 0.052598    │\n",
       "└──────┴─────────────┘"
      ]
     },
     "execution_count": 6,
     "metadata": {},
     "output_type": "execute_result"
    }
   ],
   "source": [
    "predictions = grid.convolve(\n",
    "    pdg_convs=[conv_object, conv_object],  # Similar convolutions for symmetric protons\n",
    "    xfxs=[pdf.xfxQ2, pdf.xfxQ2],  # Similar PDF sets for symmetric protons\n",
    "    alphas=pdf.alphasQ2,\n",
    ")\n",
    "df_preds = pl.DataFrame(\n",
    "    {\n",
    "        \"bins\": range(predictions.size),\n",
    "        \"predictions\": predictions,\n",
    "    }\n",
    ")\n",
    "df_preds"
   ]
  },
  {
   "cell_type": "markdown",
   "id": "6ad4724b-e303-4200-a212-c24c81cb1d3f",
   "metadata": {},
   "source": [
    "We can see that `convolve()` can perform convolutions with an arbitrary number of distributions. This is\n",
    "why `pdf_convs` and `xfxs` are lists that respectively take all the types of convolutions and distributions\n",
    "corresponding to the involved hadrons.\n",
    "\n",
    "**NOTE:** If the hadrons have the same type of convolutions and require the convolution to the same distribution,\n",
    "then only one single element can be passed to the list:"
   ]
  },
  {
   "cell_type": "markdown",
   "id": "1cb9a279-cb32-4817-8d5a-0fde5213085b",
   "metadata": {},
   "source": [
    "```python\n",
    "# Pass the shared convolution type and distribution to all hadrons\n",
    "predictions = grid.convolve(\n",
    "    pdg_convs=[conv_object],\n",
    "    xfxs=[pdf.xfxQ2],\n",
    "    alphas=pdf.alphasQ2,\n",
    ")\n",
    "```"
   ]
  },
  {
   "cell_type": "markdown",
   "id": "231dd694-e068-4e62-8e19-b93c96f4d937",
   "metadata": {},
   "source": [
    "The length of `predictions` is the same as the number of bins that define the\n",
    "observable in question. In our example, it is the inclusive cross-section for\n",
    "Z boson production in bins of the muon pseudorapidity at 8 TeV. See \n",
    "[arXiv:1511.08039](https://arxiv.org/abs/1511.08039) for more details, with the\n",
    "corresponding [HepData](https://www.hepdata.net/record/ins1406555) tables.\n",
    "\n",
    "To see that our predictions are consistent with the experimental measurements,\n",
    "we can plot a comparison of the two using **only** the central values."
   ]
  },
  {
   "cell_type": "code",
   "execution_count": 7,
   "id": "fee97bfd-e392-4a78-8850-a4093bbcb330",
   "metadata": {},
   "outputs": [
    {
     "data": {
      "image/png": "[encoded data removed]",
      "text/plain": [
       "<Figure size 560x390 with 1 Axes>"
      ]
     },
     "metadata": {},
     "output_type": "display_data"
    }
   ],
   "source": [
    "import matplotlib.pyplot as plt\n",
    "\n",
    "# Experimental central values as provided by HepData\n",
    "data_central = np.array(\n",
    "    [\n",
    "        1223.0,\n",
    "        3263.0,\n",
    "        4983.0,\n",
    "        6719.0,\n",
    "        8051.0,\n",
    "        8967.0,\n",
    "        9561.0,\n",
    "        9822.0,\n",
    "        9721.0,\n",
    "        9030.0,\n",
    "        7748.0,\n",
    "        6059.0,\n",
    "        4385.0,\n",
    "        2724.0,\n",
    "        1584.0,\n",
    "        749.0,\n",
    "        383.0,\n",
    "        11.0,\n",
    "    ]\n",
    ")\n",
    "\n",
    "# Normalization for each bin. See Section below for more details.\n",
    "bin_norm = np.array([0.125 for _ in range(predictions.size - 2)] + [0.250, 0.250])\n",
    "\n",
    "fig, ax = plt.subplots(figsize=(5.6, 3.9))\n",
    "# Factor of `1e3` takes into account the unit conversion into `fb`\n",
    "ax.plot(\n",
    "    df_preds[\"bins\"],\n",
    "    1e3 * bin_norm * df_preds[\"predictions\"],\n",
    "    \"s\",\n",
    "    markersize=8,\n",
    "    label=\"theory\",\n",
    ")\n",
    "ax.plot(df_preds[\"bins\"], data_central, \"o\", markersize=8, label=\"data\")\n",
    "ax.grid(True, alpha=0.5)\n",
    "ax.set_yscale(\"log\")\n",
    "ax.set_xlabel(\"bins\")\n",
    "ax.set_ylabel(r\"$d\\sigma / dy_\\mu$ (fb)\")\n",
    "ax.legend()\n",
    "\n",
    "plt.show()"
   ]
  },
  {
   "cell_type": "markdown",
   "id": "d4fbfdc3-a35b-44bf-bcc9-d6864f20bfca",
   "metadata": {},
   "source": [
    "As we can see, the theory predictions agree fairly well with the experimental\n",
    "measurements. However, in order to have a meaningful comparison, one needs to\n",
    "include all sources of experimental and theory uncertainties. **Notice** that\n",
    "in the plot above, we are accounting for the change in normalization related\n",
    "to each bin, something that we can directly modify inside the PineAPPL grid as \n",
    "we will see later."
   ]
  },
  {
   "cell_type": "markdown",
   "id": "ba2b1e4c-bc60-48dd-9b04-d349b4118707",
   "metadata": {},
   "source": [
    "**NOTE:** As mentioned before, if the two initial state hadrons are different \n",
    "(as is the case in $pp$ collisions in which one of the protons is polarized),\n",
    "then one can convolve the grid with **two** different PDF sets using the `convolve()` \n",
    "function:"
   ]
  },
  {
   "cell_type": "markdown",
   "id": "3c84ba6b-8c52-4e8c-8861-b6b8d0d39cef",
   "metadata": {},
   "source": [
    "```python\n",
    "# Define the convolution types for each of the (un)polarized hadrons\n",
    "pol_type = ConvType(polarized=True, time_like=False) # `polarized = True`\n",
    "pol_object = Conv(convolution_types=pol_type, pid=2212)\n",
    "\n",
    "unpol_type = ConvType(polarized=False, time_like=False)\n",
    "unpol_object = Conv(convolution_types=conv_type, pid=2212)\n",
    "\n",
    "# Convolve the two initial state hadrons with different PDF sets\n",
    "predictions = predictions = grid.convolve(\n",
    "    pdg_convs=[pol_object, conv_object],\n",
    "    xfxs=[polarized_pdf.xfxQ2, 2212, unpolarized_pdf.xfxQ2],\n",
    "    alphas=pdf.alphasQ2,\n",
    ")\n",
    "```"
   ]
  },
  {
   "cell_type": "markdown",
   "id": "3d56b36c-b888-4f2d-b3fb-2f8f689ff003",
   "metadata": {},
   "source": [
    "**NOTE:** The same function `convolve` also works for convolving FK tables with PDF sets."
   ]
  },
  {
   "cell_type": "markdown",
   "id": "c890454d-a432-45cd-9ac9-e7da9a2eca31",
   "metadata": {},
   "source": [
    "## How can I get information on the contents of a given PineAPPL grid?\n",
    "\n",
    "Once the `PineAPPL` grid is loaded, one can look into its contents and modify them.\n",
    "Below we illustrate how to extract the most common information from a given grid."
   ]
  },
  {
   "cell_type": "markdown",
   "id": "07cf5156-96ae-49d1-9e24-934e3f94ca40",
   "metadata": {},
   "source": [
    "#### Contributing channels"
   ]
  },
  {
   "cell_type": "code",
   "execution_count": 8,
   "id": "b0d1a772-3be5-47df-99e2-96daa5ebf380",
   "metadata": {},
   "outputs": [
    {
     "name": "stdout",
     "output_type": "stream",
     "text": [
      "0: [([2, -2], 1.0), ([4, -4], 1.0)]\n",
      "1: [([0, -4], 1.0), ([0, -2], 1.0)]\n",
      "2: [([22, -4], 1.0), ([22, -2], 1.0)]\n",
      "3: [([2, 0], 1.0), ([4, 0], 1.0)]\n",
      "4: [([2, 22], 1.0), ([4, 22], 1.0)]\n",
      "5: [([1, -1], 1.0), ([3, -3], 1.0)]\n",
      "6: [([0, -3], 1.0), ([0, -1], 1.0)]\n",
      "7: [([22, -3], 1.0), ([22, -1], 1.0)]\n",
      "8: [([1, 0], 1.0), ([3, 0], 1.0)]\n",
      "9: [([1, 22], 1.0), ([3, 22], 1.0)]\n",
      "10: [([5, -5], 1.0)]\n",
      "11: [([0, -5], 1.0)]\n",
      "12: [([22, -5], 1.0)]\n",
      "13: [([5, 0], 1.0)]\n",
      "14: [([5, 22], 1.0)]\n",
      "15: [([22, 22], 1.0)]\n",
      "16: [([-5, 22], 1.0), ([-3, 22], 1.0), ([-1, 22], 1.0)]\n",
      "17: [([1, 22], 1.0), ([3, 22], 1.0), ([5, 22], 1.0)]\n"
     ]
    }
   ],
   "source": [
    "# To get all the contributing channels\n",
    "for idx, c in enumerate(grid.channels()):\n",
    "    print(f\"{idx}: {c}\")"
   ]
  },
  {
   "cell_type": "markdown",
   "id": "967ef36d-865c-4a3f-b41c-151615c05a6a",
   "metadata": {},
   "source": [
    "The above prints out all the contributing channels where the first\n",
    "two elements of the tuple represent the particle PID (following the\n",
    "PDG conventions). For instance, in the first entry, the up-antiup\n",
    "`(2,-2)` and charm-anticharm `(4,-4)` initial states are merged\n",
    "together, each with a multiplicative factor of `1`. In general this \n",
    "number can be different from `1`, if the Monte Carlo decides to factor \n",
    "out CKM values or electric charges."
   ]
  },
  {
   "cell_type": "markdown",
   "id": "61acaa44-0cba-4267-8611-6ff1c545ccb5",
   "metadata": {},
   "source": [
    "#### Perturbative orders"
   ]
  },
  {
   "cell_type": "code",
   "execution_count": 9,
   "id": "6658a6c3-bb88-42fa-a567-9f5b6cebb1ac",
   "metadata": {},
   "outputs": [
    {
     "data": {
      "text/html": [
       "<div><style>\n",
       ".dataframe > thead > tr,\n",
       ".dataframe > tbody > tr {\n",
       "  text-align: right;\n",
       "  white-space: pre-wrap;\n",
       "}\n",
       "</style>\n",
       "<small>shape: (7, 6)</small><table border=\"1\" class=\"dataframe\"><thead><tr><th>Index</th><th>as</th><th>a</th><th>lf</th><th>lr</th><th>la</th></tr><tr><td>u32</td><td>i64</td><td>i64</td><td>i64</td><td>i64</td><td>i64</td></tr></thead><tbody><tr><td>0</td><td>0</td><td>2</td><td>0</td><td>0</td><td>0</td></tr><tr><td>1</td><td>1</td><td>2</td><td>0</td><td>0</td><td>0</td></tr><tr><td>2</td><td>1</td><td>2</td><td>1</td><td>0</td><td>0</td></tr><tr><td>3</td><td>1</td><td>2</td><td>0</td><td>1</td><td>0</td></tr><tr><td>4</td><td>0</td><td>3</td><td>0</td><td>0</td><td>0</td></tr><tr><td>5</td><td>0</td><td>3</td><td>1</td><td>0</td><td>0</td></tr><tr><td>6</td><td>0</td><td>3</td><td>0</td><td>1</td><td>0</td></tr></tbody></table></div>"
      ],
      "text/plain": [
       "shape: (7, 6)\n",
       "┌───────┬─────┬─────┬─────┬─────┬─────┐\n",
       "│ Index ┆ as  ┆ a   ┆ lf  ┆ lr  ┆ la  │\n",
       "│ ---   ┆ --- ┆ --- ┆ --- ┆ --- ┆ --- │\n",
       "│ u32   ┆ i64 ┆ i64 ┆ i64 ┆ i64 ┆ i64 │\n",
       "╞═══════╪═════╪═════╪═════╪═════╪═════╡\n",
       "│ 0     ┆ 0   ┆ 2   ┆ 0   ┆ 0   ┆ 0   │\n",
       "│ 1     ┆ 1   ┆ 2   ┆ 0   ┆ 0   ┆ 0   │\n",
       "│ 2     ┆ 1   ┆ 2   ┆ 1   ┆ 0   ┆ 0   │\n",
       "│ 3     ┆ 1   ┆ 2   ┆ 0   ┆ 1   ┆ 0   │\n",
       "│ 4     ┆ 0   ┆ 3   ┆ 0   ┆ 0   ┆ 0   │\n",
       "│ 5     ┆ 0   ┆ 3   ┆ 1   ┆ 0   ┆ 0   │\n",
       "│ 6     ┆ 0   ┆ 3   ┆ 0   ┆ 1   ┆ 0   │\n",
       "└───────┴─────┴─────┴─────┴─────┴─────┘"
      ]
     },
     "execution_count": 9,
     "metadata": {},
     "output_type": "execute_result"
    }
   ],
   "source": [
    "# To get the information on the orders:\n",
    "orders = []\n",
    "for idx, o in enumerate(grid.orders()):\n",
    "    orders.append(o.as_tuple())\n",
    "\n",
    "df_orders = pl.DataFrame(np.array(orders), schema=[\"as\", \"a\", \"lf\", \"lr\", \"la\"])\n",
    "df_orders.with_row_index(\"Index\")"
   ]
  },
  {
   "cell_type": "markdown",
   "id": "ef2ea5d4-e4b7-4760-aca1-fe7c2d8205f0",
   "metadata": {},
   "source": [
    "The table above lists the perturbative orders contained in the\n",
    "grid where the powers of the strong coupling $a_s$, the electroweak\n",
    "coupling $a$, the factorization $\\ell_F = \\log(\\mu_F^2/Q^2)$, renormalization $\\ell_R=\\log(\\mu_R^2/Q^2)$,\n",
    "and fragmentation $\\ell_A=\\log(\\mu_A^2/Q^2)$\n",
    "logs are shown. For instance, the first index shows that the grid \n",
    "contains a leading-order (LO) which has the coupling $a_s^2$."
   ]
  },
  {
   "cell_type": "markdown",
   "id": "ac93839a-320c-4fd6-a758-6d0a677121ec",
   "metadata": {},
   "source": [
    "#### Observable binning"
   ]
  },
  {
   "cell_type": "markdown",
   "id": "c7696983-778e-4d20-9c74-bb7e210cb530",
   "metadata": {},
   "source": [
    "Grids often correspond to an dataset, which correspond to an observable measured at several kinematic configurations, or bins.\n",
    "The bins might be just 1 dimensional, as is the case here with rapidity, or for more complicated measurements higher dimensional.\n",
    "Each bin is characterized by its left and right border."
   ]
  },
  {
   "cell_type": "code",
   "execution_count": 10,
   "id": "4514380c-65e3-4116-a835-238212d68d10",
   "metadata": {},
   "outputs": [
    {
     "data": {
      "text/html": [
       "<div><style>\n",
       ".dataframe > thead > tr,\n",
       ".dataframe > tbody > tr {\n",
       "  text-align: right;\n",
       "  white-space: pre-wrap;\n",
       "}\n",
       "</style>\n",
       "<small>shape: (18, 2)</small><table border=\"1\" class=\"dataframe\"><thead><tr><th>dim 0 left</th><th>dim 0 right</th></tr><tr><td>f64</td><td>f64</td></tr></thead><tbody><tr><td>2.0</td><td>2.125</td></tr><tr><td>2.125</td><td>2.25</td></tr><tr><td>2.25</td><td>2.375</td></tr><tr><td>2.375</td><td>2.5</td></tr><tr><td>2.5</td><td>2.625</td></tr><tr><td>&hellip;</td><td>&hellip;</td></tr><tr><td>3.625</td><td>3.75</td></tr><tr><td>3.75</td><td>3.875</td></tr><tr><td>3.875</td><td>4.0</td></tr><tr><td>4.0</td><td>4.25</td></tr><tr><td>4.25</td><td>4.5</td></tr></tbody></table></div>"
      ],
      "text/plain": [
       "shape: (18, 2)\n",
       "┌────────────┬─────────────┐\n",
       "│ dim 0 left ┆ dim 0 right │\n",
       "│ ---        ┆ ---         │\n",
       "│ f64        ┆ f64         │\n",
       "╞════════════╪═════════════╡\n",
       "│ 2.0        ┆ 2.125       │\n",
       "│ 2.125      ┆ 2.25        │\n",
       "│ 2.25       ┆ 2.375       │\n",
       "│ 2.375      ┆ 2.5         │\n",
       "│ 2.5        ┆ 2.625       │\n",
       "│ …          ┆ …           │\n",
       "│ 3.625      ┆ 3.75        │\n",
       "│ 3.75       ┆ 3.875       │\n",
       "│ 3.875      ┆ 4.0         │\n",
       "│ 4.0        ┆ 4.25        │\n",
       "│ 4.25       ┆ 4.5         │\n",
       "└────────────┴─────────────┘"
      ]
     },
     "execution_count": 10,
     "metadata": {},
     "output_type": "execute_result"
    }
   ],
   "source": [
    "# To get the bin configurations\n",
    "bin_dims = grid.bin_dimensions()\n",
    "\n",
    "# Get the bin specifications.\n",
    "bin_specs = np.array(grid.bin_limits())\n",
    "\n",
    "# Each element of bins is an object with a left and right limit and\n",
    "# an associated bin normalization.\n",
    "df = pl.DataFrame({})\n",
    "for bin_dim in range(bin_dims):\n",
    "    df = pl.concat(\n",
    "        [\n",
    "            df,\n",
    "            pl.DataFrame(\n",
    "                {\n",
    "                    f\"dim {bin_dim} left\": bin_specs[:, bin_dim, 0],\n",
    "                    f\"dim {bin_dim} right\": bin_specs[:, bin_dim, 1],\n",
    "                }\n",
    "            ),\n",
    "        ],\n",
    "        how=\"vertical\",\n",
    "    )\n",
    "df"
   ]
  },
  {
   "cell_type": "markdown",
   "id": "1040c3e6-4e66-41e8-a45a-890c0f6749c7",
   "metadata": {},
   "source": [
    "## How can I edit a grid?\n",
    "\n",
    "Sometimes it is required to modify the contents of a grid for various\n",
    "reasons (like plotting for example, as we saw earlier). The contents \n",
    "of PineAPPL grids can be edited in various ways. In our example, we \n",
    "are going to change the normalization related to each bin in order for\n",
    "our observable to match the experimental measurements (see Section above).\n",
    "\n",
    "Let us first check the normalizations before we modify them:"
   ]
  },
  {
   "cell_type": "code",
   "execution_count": 11,
   "id": "16f768ea-4007-4ee9-be97-c862fbb8dfab",
   "metadata": {},
   "outputs": [
    {
     "data": {
      "text/html": [
       "<div><style>\n",
       ".dataframe > thead > tr,\n",
       ".dataframe > tbody > tr {\n",
       "  text-align: right;\n",
       "  white-space: pre-wrap;\n",
       "}\n",
       "</style>\n",
       "<small>shape: (18, 2)</small><table border=\"1\" class=\"dataframe\"><thead><tr><th>index</th><th>bin normalization</th></tr><tr><td>u32</td><td>f64</td></tr></thead><tbody><tr><td>0</td><td>0.125</td></tr><tr><td>1</td><td>0.125</td></tr><tr><td>2</td><td>0.125</td></tr><tr><td>3</td><td>0.125</td></tr><tr><td>4</td><td>0.125</td></tr><tr><td>&hellip;</td><td>&hellip;</td></tr><tr><td>13</td><td>0.125</td></tr><tr><td>14</td><td>0.125</td></tr><tr><td>15</td><td>0.125</td></tr><tr><td>16</td><td>0.25</td></tr><tr><td>17</td><td>0.25</td></tr></tbody></table></div>"
      ],
      "text/plain": [
       "shape: (18, 2)\n",
       "┌───────┬───────────────────┐\n",
       "│ index ┆ bin normalization │\n",
       "│ ---   ┆ ---               │\n",
       "│ u32   ┆ f64               │\n",
       "╞═══════╪═══════════════════╡\n",
       "│ 0     ┆ 0.125             │\n",
       "│ 1     ┆ 0.125             │\n",
       "│ 2     ┆ 0.125             │\n",
       "│ 3     ┆ 0.125             │\n",
       "│ 4     ┆ 0.125             │\n",
       "│ …     ┆ …                 │\n",
       "│ 13    ┆ 0.125             │\n",
       "│ 14    ┆ 0.125             │\n",
       "│ 15    ┆ 0.125             │\n",
       "│ 16    ┆ 0.25              │\n",
       "│ 17    ┆ 0.25              │\n",
       "└───────┴───────────────────┘"
      ]
     },
     "execution_count": 11,
     "metadata": {},
     "output_type": "execute_result"
    }
   ],
   "source": [
    "df_bins = pl.DataFrame({\"bin normalization\": grid.bin_normalizations()})\n",
    "df_bins.with_row_index()"
   ]
  },
  {
   "cell_type": "markdown",
   "id": "4df9626d-918a-406a-bba5-754b47b2d398",
   "metadata": {},
   "source": [
    "The column `bin normalization` shows the factor that all convolutions are\n",
    "divided with. In our case, these values should be `1` in order to match\n",
    "the experimental measurements."
   ]
  },
  {
   "cell_type": "code",
   "execution_count": 12,
   "id": "60745b45-0cb5-413d-8f84-cea84e557998",
   "metadata": {},
   "outputs": [],
   "source": [
    "# Import the Module to set bin specifications\n",
    "from pineappl.boc import BinsWithFillLimits\n",
    "\n",
    "# Extract the left & right bin limits\n",
    "bin_limits = [\n",
    "    [(bin_specs[b, d, 0], bin_specs[b, d, 1]) for d in range(bin_dims)]\n",
    "    for b in range(grid.len())\n",
    "]\n",
    "\n",
    "# Set the normalization factor to `1`\n",
    "normalizations = [1.0 for _ in grid.bin_normalizations()]\n",
    "\n",
    "# Instantiate the bin spec object\n",
    "bin_configs = BinsWithFillLimits.from_limits_and_normalizations(\n",
    "    limits=bin_limits,\n",
    "    normalizations=normalizations,\n",
    ")\n",
    "\n",
    "# Set the updated bin configurations\n",
    "grid.set_bwfl(bin_configs)\n",
    "\n",
    "# Save the modified grid\n",
    "grid.write_lz4(\"./LHCB_DY_8TEV_custom_normalizations.pineappl.lz4\")"
   ]
  },
  {
   "cell_type": "markdown",
   "id": "79b623ae-3a2f-420b-b20c-7b6f8ad15e5c",
   "metadata": {},
   "source": [
    "We can now check that the normalizations have indeed been changed:"
   ]
  },
  {
   "cell_type": "code",
   "execution_count": 13,
   "id": "82efebec-966b-4a8f-89b1-c78077857752",
   "metadata": {},
   "outputs": [
    {
     "data": {
      "text/html": [
       "<div><style>\n",
       ".dataframe > thead > tr,\n",
       ".dataframe > tbody > tr {\n",
       "  text-align: right;\n",
       "  white-space: pre-wrap;\n",
       "}\n",
       "</style>\n",
       "<small>shape: (18, 2)</small><table border=\"1\" class=\"dataframe\"><thead><tr><th>index</th><th>bin normalization</th></tr><tr><td>u32</td><td>f64</td></tr></thead><tbody><tr><td>0</td><td>1.0</td></tr><tr><td>1</td><td>1.0</td></tr><tr><td>2</td><td>1.0</td></tr><tr><td>3</td><td>1.0</td></tr><tr><td>4</td><td>1.0</td></tr><tr><td>&hellip;</td><td>&hellip;</td></tr><tr><td>13</td><td>1.0</td></tr><tr><td>14</td><td>1.0</td></tr><tr><td>15</td><td>1.0</td></tr><tr><td>16</td><td>1.0</td></tr><tr><td>17</td><td>1.0</td></tr></tbody></table></div>"
      ],
      "text/plain": [
       "shape: (18, 2)\n",
       "┌───────┬───────────────────┐\n",
       "│ index ┆ bin normalization │\n",
       "│ ---   ┆ ---               │\n",
       "│ u32   ┆ f64               │\n",
       "╞═══════╪═══════════════════╡\n",
       "│ 0     ┆ 1.0               │\n",
       "│ 1     ┆ 1.0               │\n",
       "│ 2     ┆ 1.0               │\n",
       "│ 3     ┆ 1.0               │\n",
       "│ 4     ┆ 1.0               │\n",
       "│ …     ┆ …                 │\n",
       "│ 13    ┆ 1.0               │\n",
       "│ 14    ┆ 1.0               │\n",
       "│ 15    ┆ 1.0               │\n",
       "│ 16    ┆ 1.0               │\n",
       "│ 17    ┆ 1.0               │\n",
       "└───────┴───────────────────┘"
      ]
     },
     "execution_count": 13,
     "metadata": {},
     "output_type": "execute_result"
    }
   ],
   "source": [
    "# Load our modified grids\n",
    "grid_nrm = pineappl.grid.Grid.read(\"./LHCB_DY_8TEV_custom_normalizations.pineappl.lz4\")\n",
    "df_nbins = pl.DataFrame({\"bin normalization\": grid_nrm.bin_normalizations()})\n",
    "df_nbins.with_row_index()"
   ]
  },
  {
   "cell_type": "markdown",
   "id": "243c36ed-2adf-44e4-bd96-0b391815bc3c",
   "metadata": {},
   "source": [
    "## Fast-Kernel (FK) tables"
   ]
  },
  {
   "cell_type": "markdown",
   "id": "61bbee09-dd78-4a9d-9830-8eb417545f72",
   "metadata": {},
   "source": [
    "Fast-kernel (FK) tables are a special kind of grid, which contain the\n",
    "Evolution Kernel Operators ([EKO](https://eko.readthedocs.io/))\n",
    "which encode the DGLAP evolution equations. Furthermore, FK tables do not\n",
    "have perturbative orders while PineAPPL grids do.\n",
    "\n",
    "You can load them as well, using the FK interface:"
   ]
  },
  {
   "cell_type": "markdown",
   "id": "866767df-261e-46c9-9038-acaa0ac7c214",
   "metadata": {},
   "source": [
    "```python\n",
    "# Loading a FK table\n",
    "fk = pineappl.fk_table.FkTable.read(\"path/to/fktable.pineappl.lz4\")\n",
    "```"
   ]
  }
 ],
 "metadata": {
  "kernelspec": {
   "display_name": "pineko",
   "language": "python",
   "name": "pineko"
  },
  "language_info": {
   "codemirror_mode": {
    "name": "ipython",
    "version": 3
   },
   "file_extension": ".py",
   "mimetype": "text/x-python",
   "name": "python",
   "nbconvert_exporter": "python",
   "pygments_lexer": "ipython3",
   "version": "3.11.9"
  }
 },
 "nbformat": 4,
 "nbformat_minor": 5
}
