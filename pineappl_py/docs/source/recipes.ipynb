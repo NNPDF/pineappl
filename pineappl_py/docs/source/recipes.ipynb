{
 "cells": [
  {
   "cell_type": "markdown",
   "id": "1bc5cec5-dd52-4dbf-8e0d-86cb3996292c",
   "metadata": {},
   "source": [
    "# A Basic Introduction\n",
    "\n",
    "In the following introduction, we list some common use cases of `PineAPPL` with their solutions."
   ]
  },
  {
   "cell_type": "markdown",
   "id": "fb1fbb97-5222-40e5-b2e4-e737212f4c5b",
   "metadata": {},
   "source": [
    "## Setting up\n",
    "\n",
    "In order to start using `PineAPPL`, one first needs to install it. \n",
    "The easiest way to install the latest stable version is via `pip` \n",
    "using the following command:"
   ]
  },
  {
   "cell_type": "raw",
   "id": "ecb04362-1f02-4d0b-81f6-df1b95134c67",
   "metadata": {},
   "source": [
    "pip install pineappl"
   ]
  },
  {
   "cell_type": "markdown",
   "id": "318119e2-2be1-48c1-8448-8b4b12a08191",
   "metadata": {},
   "source": [
    "In orderr to check that `PineAPPL` was installed properly, one can try to import it:"
   ]
  },
  {
   "cell_type": "code",
   "execution_count": 1,
   "id": "5b870d1b-1325-4903-b885-c528a42c869c",
   "metadata": {},
   "outputs": [],
   "source": [
    "import pineappl"
   ]
  },
  {
   "cell_type": "markdown",
   "id": "5e3411d9-fcca-438f-8717-64c509461711",
   "metadata": {},
   "source": [
    "If the above command was successful, we can download the `PineAPPL` grid \n",
    "that will be used throughout this tutorial."
   ]
  },
  {
   "cell_type": "code",
   "execution_count": 2,
   "id": "d67f35c1-2ad6-4a5a-a651-2f271258875d",
   "metadata": {},
   "outputs": [],
   "source": [
    "!wget --no-verbose --no-clobber 'https://data.nnpdf.science/pineappl/test-data/LHCB_DY_8TEV.pineappl.lz4'"
   ]
  },
  {
   "cell_type": "markdown",
   "id": "767c24c7-e1f6-4ec4-ac42-25badf7dc363",
   "metadata": {},
   "source": [
    "We can now load the downloaded grid by running the following:"
   ]
  },
  {
   "cell_type": "code",
   "execution_count": 3,
   "id": "7ed7bdf0-d28a-4830-ac56-1fa9c7f81d56",
   "metadata": {},
   "outputs": [],
   "source": [
    "# Load the PineAPPL grid\n",
    "grid = pineappl.grid.Grid.read(\"./LHCB_DY_8TEV.pineappl.lz4\")"
   ]
  },
  {
   "cell_type": "markdown",
   "id": "88df7978-cff0-4ca3-b767-552dae5cf095",
   "metadata": {},
   "source": [
    "If the grid is actually a fast-kernel (FK) table, then it can loaded using the following:"
   ]
  },
  {
   "cell_type": "markdown",
   "id": "e7c9873c-ff9a-43d1-9dea-1c6280b1b973",
   "metadata": {},
   "source": [
    "```python\n",
    "# Loading a FK table\n",
    "fk = pineappl.fk_table.FkTable.read(\"path/to/fktable.pineappl.lz4\")\n",
    "```"
   ]
  },
  {
   "cell_type": "markdown",
   "id": "d0449d9b-26fc-4847-9689-5a4361cfef8b",
   "metadata": {},
   "source": [
    "**NOTE:** For the `pineappl.grid.Grid.read()` function, both `.pineappl` and `.pineappl.lz4` \n",
    "extensions are acceptable, as long as they are consistent. Without the `.lz4` extension, the\n",
    "grid is assumed to not be compressed."
   ]
  },
  {
   "cell_type": "markdown",
   "id": "097137f5-4f46-4d20-af7d-ff5ad3c31ced",
   "metadata": {},
   "source": [
    "## How can I convolve a given PineAPPL grid with my PDF?"
   ]
  },
  {
   "cell_type": "code",
   "execution_count": 4,
   "id": "fc2f1cd5-28d3-43db-8991-557287780281",
   "metadata": {},
   "outputs": [
    {
     "name": "stdout",
     "output_type": "stream",
     "text": [
      "LHAPDF 6.5.4 loading /home/tanjona/LHAPDF_PATH/NNPDF40_nnlo_as_01180/NNPDF40_nnlo_as_01180_0000.dat\n",
      "NNPDF40_nnlo_as_01180 PDF set, member #0, version 1; LHAPDF ID = 331100\n"
     ]
    }
   ],
   "source": [
    "# We first need to load the PDF set with LHAPDF\n",
    "import lhapdf\n",
    "\n",
    "# Choose the PDF set to be used\n",
    "pdfset = \"NNPDF40_nnlo_as_01180\"\n",
    "# Use the central PDF, ie. member ID=0\n",
    "pdf = lhapdf.mkPDF(pdfset, 0)"
   ]
  },
  {
   "cell_type": "markdown",
   "id": "640a1efd-94bb-4c22-a6d7-785e940a0013",
   "metadata": {},
   "source": [
    "Our grid can now be convolved with our PDF set using the `convolve_with_one()` function:"
   ]
  },
  {
   "cell_type": "code",
   "execution_count": 5,
   "id": "d41e391c-affd-49ad-8d70-483bf952d4f3",
   "metadata": {},
   "outputs": [
    {
     "data": {
      "text/plain": [
       "(18,)"
      ]
     },
     "execution_count": 5,
     "metadata": {},
     "output_type": "execute_result"
    }
   ],
   "source": [
    "predictions = grid.convolve_with_one(2212, pdf.xfxQ2, pdf.alphasQ2)\n",
    "predictions.shape"
   ]
  },
  {
   "cell_type": "markdown",
   "id": "231dd694-e068-4e62-8e19-b93c96f4d937",
   "metadata": {},
   "source": [
    "The length of `predictions` is the same as the number of bins that define the\n",
    "observable in question. In our example, it is the inclusive cross-section for\n",
    "DY production in bins of the muon pseudorapidity. See \n",
    "[arXiv:1511.08039](https://arxiv.org/abs/1511.08039) for more details."
   ]
  },
  {
   "cell_type": "markdown",
   "id": "ba2b1e4c-bc60-48dd-9b04-d349b4118707",
   "metadata": {},
   "source": [
    "**NOTE:** If the two initial state hadrons are different (as is the case in\n",
    "$pp$ collisions in which one of the protons is polarized), then one can convolve\n",
    "the grid with **two** different PDF sets using the `convolve_with_two()` function:"
   ]
  },
  {
   "cell_type": "markdown",
   "id": "3c84ba6b-8c52-4e8c-8861-b6b8d0d39cef",
   "metadata": {},
   "source": [
    "```python\n",
    "# Convolve the two initial state hadrons with different PDF sets\n",
    "predictions = grid.convolve_with_two(2212, polarized_pdf.xfxQ2, 2212, unpolarized_pdf.xfxQ2, unpolarized_pdf.alphasQ2)\n",
    "```"
   ]
  },
  {
   "cell_type": "markdown",
   "id": "3d56b36c-b888-4f2d-b3fb-2f8f689ff003",
   "metadata": {},
   "source": [
    "**NOTE:** The same functions `convolve_with_one()` and `convolve_with_two()` also work for convolving FK tables with PDF sets."
   ]
  },
  {
   "cell_type": "markdown",
   "id": "c890454d-a432-45cd-9ac9-e7da9a2eca31",
   "metadata": {},
   "source": [
    "## How can I get information on the contents of a given PineAPPL grid?\n",
    "\n",
    "Once the `PineAPPL` grid is loaded, one can look into its contents and modify them.\n",
    "Below we illustrate how to extract the most common information from a given grid."
   ]
  },
  {
   "cell_type": "code",
   "execution_count": 6,
   "id": "b0d1a772-3be5-47df-99e2-96daa5ebf380",
   "metadata": {},
   "outputs": [
    {
     "name": "stdout",
     "output_type": "stream",
     "text": [
      "0: [(2, -2, 1.0), (4, -4, 1.0)]\n",
      "1: [(0, -4, 1.0), (0, -2, 1.0)]\n",
      "2: [(22, -4, 1.0), (22, -2, 1.0)]\n",
      "3: [(2, 0, 1.0), (4, 0, 1.0)]\n",
      "4: [(2, 22, 1.0), (4, 22, 1.0)]\n",
      "5: [(1, -1, 1.0), (3, -3, 1.0)]\n",
      "6: [(0, -3, 1.0), (0, -1, 1.0)]\n",
      "7: [(22, -3, 1.0), (22, -1, 1.0)]\n",
      "8: [(1, 0, 1.0), (3, 0, 1.0)]\n",
      "9: [(1, 22, 1.0), (3, 22, 1.0)]\n",
      "10: [(5, -5, 1.0)]\n",
      "11: [(0, -5, 1.0)]\n",
      "12: [(22, -5, 1.0)]\n",
      "13: [(5, 0, 1.0)]\n",
      "14: [(5, 22, 1.0)]\n",
      "15: [(22, 22, 1.0)]\n",
      "16: [(-5, 22, 1.0), (-3, 22, 1.0), (-1, 22, 1.0)]\n",
      "17: [(1, 22, 1.0), (3, 22, 1.0), (5, 22, 1.0)]\n"
     ]
    }
   ],
   "source": [
    "# To get all the contributing channels\n",
    "for idx, c in enumerate(grid.channels()):\n",
    "    print(f\"{idx}: {c}\")"
   ]
  },
  {
   "cell_type": "code",
   "execution_count": 7,
   "id": "6658a6c3-bb88-42fa-a567-9f5b6cebb1ac",
   "metadata": {},
   "outputs": [
    {
     "name": "stdout",
     "output_type": "stream",
     "text": [
      "0: (0, 2, 0, 0)\n",
      "1: (1, 2, 0, 0)\n",
      "2: (1, 2, 1, 0)\n",
      "3: (1, 2, 0, 1)\n",
      "4: (0, 3, 0, 0)\n",
      "5: (0, 3, 1, 0)\n",
      "6: (0, 3, 0, 1)\n"
     ]
    }
   ],
   "source": [
    "# To get the information on the orders:\n",
    "for idx, o in enumerate(grid.orders()):\n",
    "    print(f\"{idx}: {o.as_tuple()}\")"
   ]
  },
  {
   "cell_type": "code",
   "execution_count": 8,
   "id": "4514380c-65e3-4116-a835-238212d68d10",
   "metadata": {},
   "outputs": [
    {
     "name": "stdout",
     "output_type": "stream",
     "text": [
      "Bin configurations for index 0:\n",
      "Left bins: [2.    2.125 2.25  2.375 2.5   2.625 2.75  2.875 3.    3.125 3.25  3.375\n",
      " 3.5   3.625 3.75  3.875 4.    4.25 ]\n",
      "Right bins: [2.125 2.25  2.375 2.5   2.625 2.75  2.875 3.    3.125 3.25  3.375 3.5\n",
      " 3.625 3.75  3.875 4.    4.25  4.5  ]\n"
     ]
    }
   ],
   "source": [
    "# To get the bin configurations\n",
    "bin_dims = grid.bin_dimensions()\n",
    "\n",
    "# Each element of bins is an object with a left and right limit and\n",
    "# an associated bin normalization.\n",
    "for idx, bin_dim in enumerate(range(bin_dims)):\n",
    "    print(f\"Bin configurations for index {idx}:\")\n",
    "    bin_left = grid.bin_left(0)\n",
    "    bin_right = grid.bin_right(0)\n",
    "    print(f\"Left bins: {bin_left}\")\n",
    "    print(f\"Right bins: {bin_right}\")"
   ]
  },
  {
   "cell_type": "markdown",
   "id": "1040c3e6-4e66-41e8-a45a-890c0f6749c7",
   "metadata": {},
   "source": [
    "## How can I edit a grid?\n",
    "\n",
    "The contents of PineAPPL grids can be edited in various ways. In our example,\n",
    "we are going to change the normalization related to each bin.\n",
    "\n",
    "Let us first check the normalizations before we mnodify them:"
   ]
  },
  {
   "cell_type": "code",
   "execution_count": 9,
   "id": "16f768ea-4007-4ee9-be97-c862fbb8dfab",
   "metadata": {},
   "outputs": [
    {
     "data": {
      "text/plain": [
       "array([0.125, 0.125, 0.125, 0.125, 0.125, 0.125, 0.125, 0.125, 0.125,\n",
       "       0.125, 0.125, 0.125, 0.125, 0.125, 0.125, 0.125, 0.25 , 0.25 ])"
      ]
     },
     "execution_count": 9,
     "metadata": {},
     "output_type": "execute_result"
    }
   ],
   "source": [
    "grid.bin_normalizations()"
   ]
  },
  {
   "cell_type": "code",
   "execution_count": 10,
   "id": "60745b45-0cb5-413d-8f84-cea84e557998",
   "metadata": {},
   "outputs": [],
   "source": [
    "import numpy as np\n",
    "\n",
    "# Extract the left & right bin limits\n",
    "bin_limits = [\n",
    "    (left, right)\n",
    "    for left, right in zip(\n",
    "        grid.bin_left(bin_dims - 1), grid.bin_right(bin_dims - 1)\n",
    "    )\n",
    "]\n",
    "\n",
    "# Multiply the normalization by a factor of `2`\n",
    "normalizations = [2 * n for n in grid.bin_normalizations()]\n",
    "\n",
    "# NOTE: `normalizations` have to be of type np.ndarray\n",
    "remapper = pineappl.bin.BinRemapper(np.array(normalizations), bin_limits)\n",
    "\n",
    "# Modify the bin normalization\n",
    "grid.set_remapper(remapper)\n",
    "\n",
    "# Save the modified grid\n",
    "grid.write_lz4(\"./LHCB_DY_8TEV_custom_normalizations.pineappl.lz4\")"
   ]
  },
  {
   "cell_type": "markdown",
   "id": "79b623ae-3a2f-420b-b20c-7b6f8ad15e5c",
   "metadata": {},
   "source": [
    "We can now check that the normalizations have indeed been changed:"
   ]
  },
  {
   "cell_type": "code",
   "execution_count": 11,
   "id": "82efebec-966b-4a8f-89b1-c78077857752",
   "metadata": {},
   "outputs": [
    {
     "data": {
      "text/plain": [
       "array([0.25, 0.25, 0.25, 0.25, 0.25, 0.25, 0.25, 0.25, 0.25, 0.25, 0.25,\n",
       "       0.25, 0.25, 0.25, 0.25, 0.25, 0.5 , 0.5 ])"
      ]
     },
     "execution_count": 11,
     "metadata": {},
     "output_type": "execute_result"
    }
   ],
   "source": [
    "# Load our modified grids\n",
    "grid_nrm = pineappl.grid.Grid.read(\"./LHCB_DY_8TEV_custom_normalizations.pineappl.lz4\")\n",
    "grid_nrm.bin_normalizations()"
   ]
  }
 ],
 "metadata": {
  "kernelspec": {
   "display_name": "nnpdf",
   "language": "python",
   "name": "nnpdf"
  },
  "language_info": {
   "codemirror_mode": {
    "name": "ipython",
    "version": 3
   },
   "file_extension": ".py",
   "mimetype": "text/x-python",
   "name": "python",
   "nbconvert_exporter": "python",
   "pygments_lexer": "ipython3",
   "version": "3.11.9"
  }
 },
 "nbformat": 4,
 "nbformat_minor": 5
}
